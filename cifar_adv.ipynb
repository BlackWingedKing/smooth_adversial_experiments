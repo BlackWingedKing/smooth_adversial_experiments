{
  "nbformat": 4,
  "nbformat_minor": 0,
  "metadata": {
    "colab": {
      "name": "cifar_adv",
      "provenance": [],
      "authorship_tag": "ABX9TyM07aQeDygY31HFSoY/+JdQ",
      "include_colab_link": true
    },
    "kernelspec": {
      "name": "python3",
      "display_name": "Python 3"
    },
    "accelerator": "GPU"
  },
  "cells": [
    {
      "cell_type": "markdown",
      "metadata": {
        "id": "view-in-github",
        "colab_type": "text"
      },
      "source": [
        "<a href=\"https://colab.research.google.com/github/BlackWingedKing/smooth_adversial_experiments/blob/master/cifar_adv.ipynb\" target=\"_parent\"><img src=\"https://colab.research.google.com/assets/colab-badge.svg\" alt=\"Open In Colab\"/></a>"
      ]
    },
    {
      "cell_type": "code",
      "metadata": {
        "id": "Dg9BY43e_U1Q",
        "colab_type": "code",
        "colab": {}
      },
      "source": [
        "from __future__ import print_function\n",
        "\n",
        "import os\n",
        "import argparse\n",
        "\n",
        "import torch\n",
        "import torch.nn as nn\n",
        "import torch.nn.functional as F\n",
        "import torch.optim as optim\n"
      ],
      "execution_count": 2,
      "outputs": []
    },
    {
      "cell_type": "code",
      "metadata": {
        "id": "rWios4PP_s5y",
        "colab_type": "code",
        "colab": {
          "base_uri": "https://localhost:8080/",
          "height": 207
        },
        "outputId": "33ebba7b-82e0-4aee-e0fc-1c0bfe2a2a55"
      },
      "source": [
        "!pip3 install advertorch"
      ],
      "execution_count": 5,
      "outputs": [
        {
          "output_type": "stream",
          "text": [
            "Collecting advertorch\n",
            "\u001b[?25l  Downloading https://files.pythonhosted.org/packages/2f/b1/84602596294c32f49396bac9c36f1f72b00577bbcb26ebbe776e64791cac/advertorch-0.2.3.tar.gz (5.7MB)\n",
            "\u001b[K     |████████████████████████████████| 5.7MB 6.1MB/s \n",
            "\u001b[?25hBuilding wheels for collected packages: advertorch\n",
            "  Building wheel for advertorch (setup.py) ... \u001b[?25l\u001b[?25hdone\n",
            "  Created wheel for advertorch: filename=advertorch-0.2.3-cp36-none-any.whl size=5696220 sha256=c5192b0e695115f421b1fb544a9dd02f718485330a6d1eb80da130bf9168a7eb\n",
            "  Stored in directory: /root/.cache/pip/wheels/9b/53/6e/6b2509701b0da68443fa3d4499733f5455d6d583afa8c46676\n",
            "Successfully built advertorch\n",
            "Installing collected packages: advertorch\n",
            "Successfully installed advertorch-0.2.3\n"
          ],
          "name": "stdout"
        }
      ]
    },
    {
      "cell_type": "code",
      "metadata": {
        "id": "HLKG8mgI_o5y",
        "colab_type": "code",
        "colab": {}
      },
      "source": [
        "from advertorch.attacks import LinfPGDAttack\n",
        "from advertorch.context import ctx_noparamgrad_and_eval\n",
        "from advertorch_examples.utils import get_cifar10_train_loader\n",
        "from advertorch_examples.utils import get_cifar10_test_loader\n"
      ],
      "execution_count": 6,
      "outputs": []
    },
    {
      "cell_type": "code",
      "metadata": {
        "id": "Z38kfSQg_2Tx",
        "colab_type": "code",
        "colab": {}
      },
      "source": [
        "class Net(nn.Module):\n",
        "    def __init__(self):\n",
        "        super(Net, self).__init__()\n",
        "        self.fc1 = nn.Linear(1000, 128)\n",
        "        self.fc2 = nn.Linear(128, 64)\n",
        "        self.fc3 = nn.Linear(64, 10)\n",
        "        self.resnet = models.resnext50_32x4d(pretrained=False)\n",
        "\n",
        "    def forward(self, x):\n",
        "        x = self.resnet(x)\n",
        "        x = F.relu(self.fc1(x))\n",
        "        x = F.relu(self.fc2(x))\n",
        "        x = self.fc3(x)\n",
        "        return x"
      ],
      "execution_count": 7,
      "outputs": []
    },
    {
      "cell_type": "code",
      "metadata": {
        "id": "-CCcmbfy_5e9",
        "colab_type": "code",
        "colab": {
          "base_uri": "https://localhost:8080/",
          "height": 215
        },
        "outputId": "f77ac2c3-6603-419e-bbc0-61067510b457"
      },
      "source": [
        "\n",
        "if __name__ == '__main__':\n",
        "    parser = argparse.ArgumentParser(description='Train CIFAR')\n",
        "    parser.add_argument('--seed', default=0, type=int)\n",
        "    parser.add_argument('--mode', default=\"cln\", help=\"cln | adv\")\n",
        "    parser.add_argument('--train_batch_size', default=64, type=int)\n",
        "    parser.add_argument('--test_batch_size', default=1000, type=int)\n",
        "\n",
        "    args = parser.parse_args()\n",
        "\n",
        "    # this is the boolean value for the adversarial training \n",
        "    flag_advtrain = True\n",
        "\n",
        "    torch.manual_seed(args.seed)\n",
        "    use_cuda = torch.cuda.is_available()\n",
        "    device = torch.device(\"cuda\" if use_cuda else \"cpu\")\n",
        "\n",
        "    nb_epoch = 100\n",
        "    train_loader = get_cifar10_train_loader(\n",
        "        batch_size=args.train_batch_size, shuffle=True)\n",
        "    test_loader = get_cifar10_test_loader(\n",
        "        batch_size=args.test_batch_size, shuffle=False)\n",
        "\n",
        "    model = Net().to(device)\n",
        "\n",
        "    optimizer = optim.SGD(model.parameters(), lr=1e-4)\n",
        "\n",
        "    # these parameters to be setup according to the paper\n",
        "    adversary = LinfPGDAttack(model, loss_fn=nn.CrossEntropyLoss(reduction=\"sum\"), eps=0.3,\n",
        "        nb_iter=1, eps_iter=0.01, rand_init=True, clip_min=0.0,\n",
        "        clip_max=1.0, targeted=False)\n",
        "\n",
        "    for epoch in range(nb_epoch):\n",
        "        model.train()\n",
        "        for batch_idx, (data, target) in enumerate(train_loader):\n",
        "            data, target = data.to(device), target.to(device)\n",
        "            ori = data\n",
        "            if flag_advtrain:\n",
        "                # when performing attack, the model needs to be in eval mode\n",
        "                # also the parameters should NOT be accumulating gradients\n",
        "                with ctx_noparamgrad_and_eval(model):\n",
        "                    data = adversary.perturb(data, target)\n",
        "\n",
        "            optimizer.zero_grad()\n",
        "            output = model(data)\n",
        "            loss = F.cross_entropy(\n",
        "                output, target, reduction='elementwise_mean')\n",
        "            loss.backward()\n",
        "            optimizer.step()\n",
        "            # if batch_idx % args.log_interval == 0:\n",
        "            #     print('Train Epoch: {} [{}/{} ({:.0f}%)]\\tLoss: {:.6f}'.format(\n",
        "            #         epoch, batch_idx *\n",
        "            #         len(data), len(train_loader.dataset),\n",
        "            #         100. * batch_idx / len(train_loader), loss.item()))\n",
        "\n",
        "        model.eval()\n",
        "        test_clnloss = 0\n",
        "        clncorrect = 0\n",
        "\n",
        "        if flag_advtrain:\n",
        "            test_advloss = 0\n",
        "            advcorrect = 0\n",
        "\n",
        "        for clndata, target in test_loader:\n",
        "            clndata, target = clndata.to(device), target.to(device)\n",
        "            with torch.no_grad():\n",
        "                output = model(clndata)\n",
        "            test_clnloss += F.cross_entropy(\n",
        "                output, target, reduction='sum').item()\n",
        "            pred = output.max(1, keepdim=True)[1]\n",
        "            clncorrect += pred.eq(target.view_as(pred)).sum().item()\n",
        "\n",
        "            if flag_advtrain:\n",
        "                advdata = adversary.perturb(clndata, target)\n",
        "                with torch.no_grad():\n",
        "                    output = model(advdata)\n",
        "                test_advloss += F.cross_entropy(\n",
        "                    output, target, reduction='sum').item()\n",
        "                pred = output.max(1, keepdim=True)[1]\n",
        "                advcorrect += pred.eq(target.view_as(pred)).sum().item()\n",
        "\n",
        "        test_clnloss /= len(test_loader.dataset)\n",
        "        # print('\\nTest set: avg cln loss: {:.4f},'\n",
        "        #       ' cln acc: {}/{} ({:.0f}%)\\n'.format(\n",
        "        #           test_clnloss, clncorrect, len(test_loader.dataset),\n",
        "        #           100. * clncorrect / len(test_loader.dataset)))\n",
        "        if flag_advtrain:\n",
        "            test_advloss /= len(test_loader.dataset)\n",
        "            print('Test set: avg adv loss: {:.4f},'\n",
        "                  ' adv acc: {}/{} ({:.0f}%)\\n'.format(\n",
        "                      test_advloss, advcorrect, len(test_loader.dataset),\n",
        "                      100. * advcorrect / len(test_loader.dataset)))\n"
      ],
      "execution_count": 8,
      "outputs": [
        {
          "output_type": "stream",
          "text": [
            "usage: ipykernel_launcher.py [-h] [--seed SEED] [--mode MODE]\n",
            "                             [--train_batch_size TRAIN_BATCH_SIZE]\n",
            "                             [--test_batch_size TEST_BATCH_SIZE]\n",
            "ipykernel_launcher.py: error: unrecognized arguments: -f /root/.local/share/jupyter/runtime/kernel-f77ee85d-3f98-4812-9d3c-8893b648cdb3.json\n"
          ],
          "name": "stderr"
        },
        {
          "output_type": "error",
          "ename": "SystemExit",
          "evalue": "ignored",
          "traceback": [
            "An exception has occurred, use %tb to see the full traceback.\n",
            "\u001b[0;31mSystemExit\u001b[0m\u001b[0;31m:\u001b[0m 2\n"
          ]
        },
        {
          "output_type": "stream",
          "text": [
            "/usr/local/lib/python3.6/dist-packages/IPython/core/interactiveshell.py:2890: UserWarning: To exit: use 'exit', 'quit', or Ctrl-D.\n",
            "  warn(\"To exit: use 'exit', 'quit', or Ctrl-D.\", stacklevel=1)\n"
          ],
          "name": "stderr"
        }
      ]
    }
  ]
}